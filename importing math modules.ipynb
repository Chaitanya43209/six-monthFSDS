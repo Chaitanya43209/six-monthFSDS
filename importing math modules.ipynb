{
 "cells": [
  {
   "cell_type": "code",
   "execution_count": null,
   "id": "da4e1f54-6fef-4a0a-a0f4-e685c1eaa0cb",
   "metadata": {},
   "outputs": [],
   "source": [
    "a=10\n",
    "a"
   ]
  },
  {
   "cell_type": "code",
   "execution_count": null,
   "id": "5b62189f-21cf-41c7-b918-0318320779c1",
   "metadata": {},
   "outputs": [],
   "source": [
    "import math\n",
    "x=math.sqrt(25)\n",
    "x"
   ]
  },
  {
   "cell_type": "code",
   "execution_count": null,
   "id": "2262f86a-96bb-4386-94f8-b5b282ba23be",
   "metadata": {},
   "outputs": [],
   "source": [
    "math.sqrt(15)"
   ]
  },
  {
   "cell_type": "raw",
   "id": "3ba2cf37-f808-4b46-b422-5b6b28d393de",
   "metadata": {},
   "source": [
    "\n"
   ]
  },
  {
   "cell_type": "code",
   "execution_count": null,
   "id": "414dd561-37d9-4d26-81cd-babb248597c1",
   "metadata": {},
   "outputs": [],
   "source": [
    "print(math.floor(2.9))\n",
    "print(math.ceil(2.9))"
   ]
  },
  {
   "cell_type": "code",
   "execution_count": null,
   "id": "ae0343d3-50d7-4083-8c0f-9190c27da1e0",
   "metadata": {},
   "outputs": [],
   "source": [
    "int(math.pow(3,2))\n",
    "int(math.pi)\n",
    "int(math.e)"
   ]
  },
  {
   "cell_type": "code",
   "execution_count": null,
   "id": "ce9b9df2-e6f6-4893-b212-a4ec93817c26",
   "metadata": {},
   "outputs": [],
   "source": [
    "import math as m\n",
    "m.sqrt(10)"
   ]
  },
  {
   "cell_type": "markdown",
   "id": "18d17d6f-d6ba-49ba-a11a-379a06e434c9",
   "metadata": {},
   "source": []
  },
  {
   "cell_type": "code",
   "execution_count": null,
   "id": "4fa1deaf-f2ba-4866-bacb-328093223b9d",
   "metadata": {},
   "outputs": [],
   "source": [
    "x=input()\n",
    "y=input()\n",
    "z=x+y\n",
    "print(z)"
   ]
  },
  {
   "cell_type": "code",
   "execution_count": 2,
   "id": "1da26eb4-4e47-42c2-aab4-3d4940b7bf84",
   "metadata": {},
   "outputs": [
    {
     "name": "stdout",
     "output_type": "stream",
     "text": [
      "8.0\n",
      "8\n"
     ]
    }
   ],
   "source": [
    "from math import sqrt,pow\n",
    "print(pow(2,3))\n",
    "print(round(pow(2,3)))"
   ]
  },
  {
   "cell_type": "code",
   "execution_count": 1,
   "id": "1a243a93-b8f1-44eb-9e69-ec517306b670",
   "metadata": {},
   "outputs": [
    {
     "name": "stdin",
     "output_type": "stream",
     "text": [
      "Enter the 1st number 3\n",
      "Enter the 2nd number 5\n"
     ]
    },
    {
     "name": "stdout",
     "output_type": "stream",
     "text": [
      "35\n"
     ]
    }
   ],
   "source": [
    "x=input('Enter the 1st number')\n",
    "y=input('Enter the 2nd number')\n",
    "z=x+y\n",
    "print(z)"
   ]
  },
  {
   "cell_type": "code",
   "execution_count": 3,
   "id": "32492ac0-6f76-48d6-93da-03ce619391a8",
   "metadata": {},
   "outputs": [
    {
     "name": "stdin",
     "output_type": "stream",
     "text": [
      "enter a char hello\n"
     ]
    },
    {
     "name": "stdout",
     "output_type": "stream",
     "text": [
      "hello\n"
     ]
    }
   ],
   "source": [
    "ch=input('enter a char')\n",
    "print(ch)"
   ]
  },
  {
   "cell_type": "code",
   "execution_count": 5,
   "id": "aa96983d-e7c7-4f26-84ab-f95f4d8f8f36",
   "metadata": {},
   "outputs": [
    {
     "name": "stdout",
     "output_type": "stream",
     "text": [
      "h\n",
      "h\n",
      "o\n",
      "e\n"
     ]
    }
   ],
   "source": [
    "print(ch[0])\n",
    "print(ch[0])\n",
    "print(ch[-1])\n",
    "print(ch[1])"
   ]
  },
  {
   "cell_type": "code",
   "execution_count": 6,
   "id": "2e25b529-d4e4-44d9-883f-456dfe49f17d",
   "metadata": {},
   "outputs": [
    {
     "name": "stdin",
     "output_type": "stream",
     "text": [
      "enter a char how are u\n"
     ]
    },
    {
     "name": "stdout",
     "output_type": "stream",
     "text": [
      "h\n"
     ]
    }
   ],
   "source": [
    "ch=input('enter a char')[0]\n",
    "print(ch)"
   ]
  },
  {
   "cell_type": "code",
   "execution_count": 7,
   "id": "d0c6de88-a345-4f82-9460-23842ad173d4",
   "metadata": {},
   "outputs": [
    {
     "name": "stdin",
     "output_type": "stream",
     "text": [
      "enter a char hi\n"
     ]
    },
    {
     "data": {
      "text/plain": [
       "'hi'"
      ]
     },
     "execution_count": 7,
     "metadata": {},
     "output_type": "execute_result"
    }
   ],
   "source": [
    "ch=input('enter a char')\n",
    "ch"
   ]
  },
  {
   "cell_type": "code",
   "execution_count": null,
   "id": "a29bc16f-a3d4-4f55-a76f-e29a05683359",
   "metadata": {},
   "outputs": [],
   "source": []
  },
  {
   "cell_type": "code",
   "execution_count": null,
   "id": "7d6843ea-5ca3-4789-8091-e62c0b33766a",
   "metadata": {},
   "outputs": [],
   "source": []
  },
  {
   "cell_type": "code",
   "execution_count": null,
   "id": "411798ab-3924-4226-b9a2-681cbe088e62",
   "metadata": {},
   "outputs": [],
   "source": []
  },
  {
   "cell_type": "code",
   "execution_count": null,
   "id": "97fd6f2c-0f26-479a-bb24-c1856c78e004",
   "metadata": {},
   "outputs": [],
   "source": []
  },
  {
   "cell_type": "code",
   "execution_count": null,
   "id": "27a1cfb0-4595-42fe-aa57-80313e938c91",
   "metadata": {},
   "outputs": [],
   "source": []
  },
  {
   "cell_type": "code",
   "execution_count": null,
   "id": "8c7e4f9b-951e-46e3-a66d-d16d10e6d5dd",
   "metadata": {},
   "outputs": [],
   "source": []
  },
  {
   "cell_type": "code",
   "execution_count": null,
   "id": "4aaa8599-36e6-48f9-950b-b7bdbfce53a2",
   "metadata": {},
   "outputs": [],
   "source": []
  }
 ],
 "metadata": {
  "kernelspec": {
   "display_name": "Python 3 (ipykernel)",
   "language": "python",
   "name": "python3"
  },
  "language_info": {
   "codemirror_mode": {
    "name": "ipython",
    "version": 3
   },
   "file_extension": ".py",
   "mimetype": "text/x-python",
   "name": "python",
   "nbconvert_exporter": "python",
   "pygments_lexer": "ipython3",
   "version": "3.13.5"
  }
 },
 "nbformat": 4,
 "nbformat_minor": 5
}
