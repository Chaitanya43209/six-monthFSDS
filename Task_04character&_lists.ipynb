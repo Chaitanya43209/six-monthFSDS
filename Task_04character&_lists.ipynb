{
  "nbformat": 4,
  "nbformat_minor": 0,
  "metadata": {
    "colab": {
      "provenance": []
    },
    "kernelspec": {
      "name": "python3",
      "display_name": "Python 3"
    },
    "language_info": {
      "name": "python"
    }
  },
  "cells": [
    {
      "cell_type": "code",
      "execution_count": null,
      "metadata": {
        "colab": {
          "base_uri": "https://localhost:8080/"
        },
        "id": "FRqgYnLCgrVT",
        "outputId": "81166511-e9aa-4b8e-8bcd-8eb49e9c22f2"
      },
      "outputs": [
        {
          "output_type": "stream",
          "name": "stdout",
          "text": [
            "hello \n",
            "world\n",
            "hello\tworld\n",
            "hello'world\n",
            "hello\"world\n",
            "hello\\nworld\n"
          ]
        }
      ],
      "source": [
        "print('hello \\nworld')\n",
        "print('hello\\tworld')\n",
        "print('hello\\'world')\n",
        "print(\"hello\\\"world\")\n",
        "print(\"hello\\\\nworld\")"
      ]
    },
    {
      "cell_type": "code",
      "source": [
        "my_list = ['Akash',21, 'Python', True, 5.5]\n",
        "print(my_list)"
      ],
      "metadata": {
        "colab": {
          "base_uri": "https://localhost:8080/"
        },
        "id": "wDDNV0q_g4dk",
        "outputId": "b1d94921-97b3-4e2b-d610-d666d866a703"
      },
      "execution_count": null,
      "outputs": [
        {
          "output_type": "stream",
          "name": "stdout",
          "text": [
            "['Akash', 21, 'Python', True, 5.5]\n"
          ]
        }
      ]
    },
    {
      "cell_type": "code",
      "source": [
        "# list indexing\n"
      ],
      "metadata": {
        "id": "mAYdNjSvg4nE"
      },
      "execution_count": null,
      "outputs": []
    },
    {
      "cell_type": "code",
      "source": [
        "fruits = ['apple', 'banana', 'cherry', 'mango']   #Accessing elements using positive index\n",
        "print(fruits[0])\n",
        "print(fruits[1])\n",
        "print(fruits[2])\n",
        "print(fruits[3])"
      ],
      "metadata": {
        "colab": {
          "base_uri": "https://localhost:8080/"
        },
        "id": "yLwyJ_I0j3I2",
        "outputId": "33f1fbe2-af35-4cb6-efd4-37f71a04351b"
      },
      "execution_count": null,
      "outputs": [
        {
          "output_type": "stream",
          "name": "stdout",
          "text": [
            "apple\n",
            "banana\n",
            "cherry\n",
            "mango\n"
          ]
        }
      ]
    },
    {
      "cell_type": "code",
      "source": [
        "print(fruits[-1])\n",
        "print(fruits[-2])\n",
        "print(fruits[-3])\n",
        "print(fruits[-4])"
      ],
      "metadata": {
        "colab": {
          "base_uri": "https://localhost:8080/"
        },
        "id": "0KENDmZPj3eg",
        "outputId": "c639c725-2134-49b5-8f89-b76d4bd37d06"
      },
      "execution_count": null,
      "outputs": [
        {
          "output_type": "stream",
          "name": "stdout",
          "text": [
            "mango\n",
            "cherry\n",
            "banana\n",
            "apple\n"
          ]
        }
      ]
    },
    {
      "cell_type": "code",
      "source": [
        "# list sclicing\n"
      ],
      "metadata": {
        "id": "wyJQrGDRljLf"
      },
      "execution_count": null,
      "outputs": []
    },
    {
      "cell_type": "code",
      "source": [
        "numbers = [0, 1, 2, 3, 4, 5, 6, 7, 8, 9]\n",
        "\n",
        "print(numbers[2:6])"
      ],
      "metadata": {
        "colab": {
          "base_uri": "https://localhost:8080/"
        },
        "id": "qm-xfLfeljXr",
        "outputId": "a975b301-a59d-4245-9c07-616e4903e1c3"
      },
      "execution_count": null,
      "outputs": [
        {
          "output_type": "stream",
          "name": "stdout",
          "text": [
            "[2, 3, 4, 5]\n"
          ]
        }
      ]
    },
    {
      "cell_type": "code",
      "source": [
        "print(numbers[:5])\n",
        "print(numbers[5:])\n",
        "print(numbers[:])"
      ],
      "metadata": {
        "colab": {
          "base_uri": "https://localhost:8080/"
        },
        "id": "ct78zKXtl33o",
        "outputId": "766eb669-7f92-4b35-f886-48fd0bae9ef7"
      },
      "execution_count": null,
      "outputs": [
        {
          "output_type": "stream",
          "name": "stdout",
          "text": [
            "[0, 1, 2, 3, 4]\n",
            "[5, 6, 7, 8, 9]\n",
            "[0, 1, 2, 3, 4, 5, 6, 7, 8, 9]\n"
          ]
        }
      ]
    },
    {
      "cell_type": "code",
      "source": [
        "print(numbers[::2])\n",
        "print(numbers[1::2])\n",
        "print(numbers[::-1])"
      ],
      "metadata": {
        "colab": {
          "base_uri": "https://localhost:8080/"
        },
        "id": "4QGcG1Wil4Dg",
        "outputId": "a85c1ea2-f1af-4f9d-d1b6-a38195feb75a"
      },
      "execution_count": null,
      "outputs": [
        {
          "output_type": "stream",
          "name": "stdout",
          "text": [
            "[0, 2, 4, 6, 8]\n",
            "[1, 3, 5, 7, 9]\n",
            "[9, 8, 7, 6, 5, 4, 3, 2, 1, 0]\n"
          ]
        }
      ]
    },
    {
      "cell_type": "code",
      "source": [
        "# MODIFYING LISTS"
      ],
      "metadata": {
        "id": "9HkZStzLl4PZ"
      },
      "execution_count": null,
      "outputs": []
    },
    {
      "cell_type": "code",
      "source": [
        "#in python lists are mutable which means you can:\n",
        "#change the elements using indexing\n"
      ],
      "metadata": {
        "id": "ZBFjKI3Xl4ZC"
      },
      "execution_count": null,
      "outputs": []
    },
    {
      "cell_type": "code",
      "source": [
        "fruits = ['apple','banana', 'cherry']\n",
        "fruits[1] = 'blueberry'\n",
        "print(fruits)"
      ],
      "metadata": {
        "colab": {
          "base_uri": "https://localhost:8080/"
        },
        "id": "S-2VLSgel4jX",
        "outputId": "0c4acc8d-3456-4bbc-e523-26dde29353ec"
      },
      "execution_count": null,
      "outputs": [
        {
          "output_type": "stream",
          "name": "stdout",
          "text": [
            "['apple', 'blueberry', 'cherry']\n"
          ]
        }
      ]
    },
    {
      "cell_type": "code",
      "source": [
        "fruits.append('chiku')\n",
        "print(fruits)"
      ],
      "metadata": {
        "colab": {
          "base_uri": "https://localhost:8080/"
        },
        "id": "oTy72ki_l4s3",
        "outputId": "18950487-3e25-4b95-d2a7-b1795add9db5"
      },
      "execution_count": null,
      "outputs": [
        {
          "output_type": "stream",
          "name": "stdout",
          "text": [
            "['apple', 'blueberry', 'cherry', 'mango', 'chiku']\n"
          ]
        }
      ]
    },
    {
      "cell_type": "code",
      "source": [
        "fruits.insert(1, 'kiwi')   # INSERT ADDS ONE SPECIFIC ITEMS\n",
        "print(fruits)"
      ],
      "metadata": {
        "colab": {
          "base_uri": "https://localhost:8080/"
        },
        "id": "vGx280__l43Q",
        "outputId": "cb3bea45-6156-436f-c312-a83ee9780a77"
      },
      "execution_count": null,
      "outputs": [
        {
          "output_type": "stream",
          "name": "stdout",
          "text": [
            "['apple', 'kiwi', 'blueberry', 'cherry', 'mango', 'chiku']\n"
          ]
        }
      ]
    },
    {
      "cell_type": "code",
      "source": [
        "fruits.extend(['fig', 'grapes'])   #EXTENDS ADD MULTIPLE ITEMS\n",
        "print(fruits)"
      ],
      "metadata": {
        "colab": {
          "base_uri": "https://localhost:8080/"
        },
        "id": "Eb8Z1g_Hljfr",
        "outputId": "bf0fdbee-4aec-4273-b94e-6ed6697a5097"
      },
      "execution_count": null,
      "outputs": [
        {
          "output_type": "stream",
          "name": "stdout",
          "text": [
            "['apple', 'kiwi', 'blueberry', 'cherry', 'mango', 'chiku', 'fig', 'grapes']\n"
          ]
        }
      ]
    },
    {
      "cell_type": "code",
      "source": [
        "fruits.remove('blueberry')   #REMOVE BY VALUE\n",
        "print(fruits)"
      ],
      "metadata": {
        "colab": {
          "base_uri": "https://localhost:8080/"
        },
        "id": "6fSEmnhkphN-",
        "outputId": "7c4733b5-a4af-4710-c30c-bacfdce066cf"
      },
      "execution_count": null,
      "outputs": [
        {
          "output_type": "stream",
          "name": "stdout",
          "text": [
            "['apple', 'kiwi', 'cherry', 'mango', 'chiku', 'fig', 'grapes']\n"
          ]
        }
      ]
    },
    {
      "cell_type": "code",
      "source": [
        "popped_item = fruits.pop()   #POP removes last items (or by index)\n",
        "print(popped_item)\n",
        "print(fruits)"
      ],
      "metadata": {
        "colab": {
          "base_uri": "https://localhost:8080/"
        },
        "id": "Yp508EmYqIa0",
        "outputId": "fac79fd1-3e93-4375-c1a3-fe5943910c5b"
      },
      "execution_count": null,
      "outputs": [
        {
          "output_type": "stream",
          "name": "stdout",
          "text": [
            "grapes\n",
            "['apple', 'kiwi', 'cherry', 'mango', 'chiku', 'fig']\n"
          ]
        }
      ]
    },
    {
      "cell_type": "code",
      "source": [
        "del fruits[2]\n",
        "print(fruits)"
      ],
      "metadata": {
        "colab": {
          "base_uri": "https://localhost:8080/"
        },
        "id": "SS_llu8_qIpy",
        "outputId": "48a0e0e3-09b1-429b-cad7-fe8fa49aebb3"
      },
      "execution_count": null,
      "outputs": [
        {
          "output_type": "stream",
          "name": "stdout",
          "text": [
            "['apple', 'kiwi', 'mango', 'chiku', 'fig']\n"
          ]
        }
      ]
    },
    {
      "cell_type": "code",
      "source": [
        "# CLEARING THE LIST"
      ],
      "metadata": {
        "id": "mepz4eErrS20"
      },
      "execution_count": null,
      "outputs": []
    },
    {
      "cell_type": "code",
      "source": [
        "list6 = [1, 2, 3, 4, 5]\n",
        "print(\"Before clearing:\", list6)"
      ],
      "metadata": {
        "colab": {
          "base_uri": "https://localhost:8080/"
        },
        "id": "_H1wDBqbrTEI",
        "outputId": "e5be74ff-d0d2-48ed-ae6d-865bdf0cdaf2"
      },
      "execution_count": null,
      "outputs": [
        {
          "output_type": "stream",
          "name": "stdout",
          "text": [
            "Before clearing: [1, 2, 3, 4, 5]\n"
          ]
        }
      ]
    },
    {
      "cell_type": "code",
      "source": [
        "list6.clear()\n",
        "print(\"After clearing:\", list6)"
      ],
      "metadata": {
        "colab": {
          "base_uri": "https://localhost:8080/"
        },
        "id": "yX8SsdjCrTSr",
        "outputId": "1e14d49c-6dd0-430f-ca10-0872f19eb8fe"
      },
      "execution_count": null,
      "outputs": [
        {
          "output_type": "stream",
          "name": "stdout",
          "text": [
            "After clearing: []\n"
          ]
        }
      ]
    },
    {
      "cell_type": "code",
      "source": [
        "# COPYING LISTS\n"
      ],
      "metadata": {
        "id": "yP7Rlb9rrTdL"
      },
      "execution_count": null,
      "outputs": []
    },
    {
      "cell_type": "code",
      "source": [
        "list1 = [1, 2, 3, 4]\n",
        "list2 = list1\n",
        "\n",
        "list2.append(5)\n",
        "print(\"list1:\", list1)\n",
        "print(\"list2:\", list2)"
      ],
      "metadata": {
        "colab": {
          "base_uri": "https://localhost:8080/"
        },
        "id": "_Q-OJI7ZrTpt",
        "outputId": "36a9b4ce-4be4-432f-da4c-7ab5d0afd208"
      },
      "execution_count": null,
      "outputs": [
        {
          "output_type": "stream",
          "name": "stdout",
          "text": [
            "list1: [1, 2, 3, 4, 5]\n",
            "list2: [1, 2, 3, 4, 5]\n"
          ]
        }
      ]
    },
    {
      "cell_type": "code",
      "source": [
        "list3 = [10, 20, 30]\n",
        "list4 = list3.copy()\n",
        "\n",
        "list4.append(40)\n",
        "print(\"list3:\", list3)\n",
        "print(\"list4:\", list4)"
      ],
      "metadata": {
        "colab": {
          "base_uri": "https://localhost:8080/"
        },
        "id": "6BGWGP1IrT08",
        "outputId": "b0435243-ecb1-40cd-830b-9bf6aa9c8240"
      },
      "execution_count": null,
      "outputs": [
        {
          "output_type": "stream",
          "name": "stdout",
          "text": [
            "list3: [10, 20, 30]\n",
            "list4: [10, 20, 30, 40]\n"
          ]
        }
      ]
    },
    {
      "cell_type": "code",
      "source": [
        "list5 = list(list3)\n",
        "list5.append(50)\n",
        "print(\"list3:\", list3)\n",
        "print(\"list5:\", list5)"
      ],
      "metadata": {
        "colab": {
          "base_uri": "https://localhost:8080/"
        },
        "id": "5VB4XSDYrUBf",
        "outputId": "8feaec71-e127-4ff4-fca6-d9e755363252"
      },
      "execution_count": null,
      "outputs": [
        {
          "output_type": "stream",
          "name": "stdout",
          "text": [
            "list3: [10, 20, 30]\n",
            "list5: [10, 20, 30, 50]\n"
          ]
        }
      ]
    },
    {
      "cell_type": "code",
      "source": [
        "# JOINING LISTS\n"
      ],
      "metadata": {
        "id": "_UPvpu_UqI7g"
      },
      "execution_count": null,
      "outputs": []
    },
    {
      "cell_type": "code",
      "source": [
        "list_a =[1, 2, 3]\n",
        "list_b = [4, 5, 6]\n",
        "\n",
        "combined = list_a + list_b\n",
        "print(\"Joined using + :\", combined)"
      ],
      "metadata": {
        "id": "8SihSI2KujE5",
        "colab": {
          "base_uri": "https://localhost:8080/"
        },
        "outputId": "c17e6f6d-021b-4a68-9e37-63bfbd9ce9d7"
      },
      "execution_count": 1,
      "outputs": [
        {
          "output_type": "stream",
          "name": "stdout",
          "text": [
            "Joined using + : [1, 2, 3, 4, 5, 6]\n"
          ]
        }
      ]
    },
    {
      "cell_type": "code",
      "source": [
        "list_c = ['apple', 'banana']\n",
        "list_d = ['cherry', 'mango']\n",
        "\n",
        "list_c.extend(list_d)\n",
        "print(\"After extend:\", list_c)"
      ],
      "metadata": {
        "id": "IAzp4ReVujWD",
        "colab": {
          "base_uri": "https://localhost:8080/"
        },
        "outputId": "9377f57d-1534-4341-9a1c-d3c34be9228e"
      },
      "execution_count": 2,
      "outputs": [
        {
          "output_type": "stream",
          "name": "stdout",
          "text": [
            "After extend: ['apple', 'banana', 'cherry', 'mango']\n"
          ]
        }
      ]
    },
    {
      "cell_type": "code",
      "source": [
        "# MEMBERSHIP testing\n"
      ],
      "metadata": {
        "id": "6fzTseMdujjW"
      },
      "execution_count": null,
      "outputs": []
    },
    {
      "cell_type": "code",
      "source": [
        "numbers = [10, 20, 30, 40, 50]\n",
        "\n",
        "print(30 in numbers)\n",
        "print(60 in numbers)\n",
        "\n",
        "print(25 not in numbers)\n",
        "print(10 not in numbers)"
      ],
      "metadata": {
        "id": "YVxD9iP3ujtS",
        "colab": {
          "base_uri": "https://localhost:8080/"
        },
        "outputId": "7146cea7-8adc-4319-b307-23fc844b5a8f"
      },
      "execution_count": 3,
      "outputs": [
        {
          "output_type": "stream",
          "name": "stdout",
          "text": [
            "True\n",
            "False\n",
            "True\n",
            "False\n"
          ]
        }
      ]
    },
    {
      "cell_type": "code",
      "source": [
        "list1 = ['one', 'two','three', 'four']\n",
        "print('one' in list1)"
      ],
      "metadata": {
        "id": "0bU-B8Mduj2d",
        "colab": {
          "base_uri": "https://localhost:8080/"
        },
        "outputId": "369ff9de-0d46-4734-d0ea-a0b989b4c357"
      },
      "execution_count": 4,
      "outputs": [
        {
          "output_type": "stream",
          "name": "stdout",
          "text": [
            "True\n"
          ]
        }
      ]
    },
    {
      "cell_type": "code",
      "source": [
        "print('ten' in list1)"
      ],
      "metadata": {
        "id": "pdn6JsZmukAo",
        "colab": {
          "base_uri": "https://localhost:8080/"
        },
        "outputId": "f1769e03-2a35-4f15-f509-850de768b5f2"
      },
      "execution_count": 5,
      "outputs": [
        {
          "output_type": "stream",
          "name": "stdout",
          "text": [
            "False\n"
          ]
        }
      ]
    },
    {
      "cell_type": "code",
      "source": [
        "if 'three' in list1:\n",
        "  print('three id present in the list')\n",
        "else:\n",
        "  print('three is not present in the list')"
      ],
      "metadata": {
        "id": "pT2QSnCHukMU",
        "colab": {
          "base_uri": "https://localhost:8080/"
        },
        "outputId": "5c799cef-6f3c-4578-a30f-de05c6dcd6fe"
      },
      "execution_count": 6,
      "outputs": [
        {
          "output_type": "stream",
          "name": "stdout",
          "text": [
            "three id present in the list\n"
          ]
        }
      ]
    },
    {
      "cell_type": "code",
      "source": [
        "if 'eleven' in list1:\n",
        "  print('eleven is present in the list')\n",
        "else:\n",
        "  print('eleven is not present in the list')"
      ],
      "metadata": {
        "id": "jGzTN3SDukXR",
        "colab": {
          "base_uri": "https://localhost:8080/"
        },
        "outputId": "46eb1cb8-cdee-41eb-b78a-803f31f07a49"
      },
      "execution_count": 7,
      "outputs": [
        {
          "output_type": "stream",
          "name": "stdout",
          "text": [
            "eleven is not present in the list\n"
          ]
        }
      ]
    },
    {
      "cell_type": "code",
      "source": [
        "# Reversing and sorting lists\n"
      ],
      "metadata": {
        "id": "iien6ljYukjl"
      },
      "execution_count": null,
      "outputs": []
    },
    {
      "cell_type": "code",
      "source": [
        "list1 = ['red', 'green', 'yellow', 'orane', 'purple']\n",
        "list1.reverse()\n",
        "print(\"Reversed with .reverse():\", list1)\n",
        "\n"
      ],
      "metadata": {
        "id": "lzaPQxfRuk2K",
        "colab": {
          "base_uri": "https://localhost:8080/"
        },
        "outputId": "3b0fbb7a-bab6-487e-ca4b-9fdfd74d3dca"
      },
      "execution_count": 8,
      "outputs": [
        {
          "output_type": "stream",
          "name": "stdout",
          "text": [
            "Reversed with .reverse(): ['purple', 'orane', 'yellow', 'green', 'red']\n"
          ]
        }
      ]
    },
    {
      "cell_type": "code",
      "source": [
        "list1 = list1[::-1]\n",
        "print(\"Reversed with slicing:\", list1)"
      ],
      "metadata": {
        "id": "JRV3KcUwqJbe",
        "colab": {
          "base_uri": "https://localhost:8080/"
        },
        "outputId": "1a8adeac-960c-4bc0-9987-24cc9ce0bb55"
      },
      "execution_count": 9,
      "outputs": [
        {
          "output_type": "stream",
          "name": "stdout",
          "text": [
            "Reversed with slicing: ['red', 'green', 'yellow', 'orane', 'purple']\n"
          ]
        }
      ]
    },
    {
      "cell_type": "code",
      "source": [
        "mylist3 = [18, 5, 27, 99, 12, 88, 34]\n",
        "mylist3.sort()\n",
        "print(\"Ascending:\", mylist3)"
      ],
      "metadata": {
        "id": "xbbIRLijqJx4",
        "colab": {
          "base_uri": "https://localhost:8080/"
        },
        "outputId": "ba5c1dd3-f83d-4d8f-af67-42b4d2132ef8"
      },
      "execution_count": 10,
      "outputs": [
        {
          "output_type": "stream",
          "name": "stdout",
          "text": [
            "Ascending: [5, 12, 18, 27, 34, 88, 99]\n"
          ]
        }
      ]
    },
    {
      "cell_type": "code",
      "source": [
        "mylist3 = [18, 5, 27, 99, 12, 88, 34]\n",
        "mylist3.sort()\n",
        "print(\"Descending:\", mylist3)"
      ],
      "metadata": {
        "id": "1M9iXIGmqKCe",
        "colab": {
          "base_uri": "https://localhost:8080/"
        },
        "outputId": "e88bfff8-4751-49c5-bafe-301a932cacef"
      },
      "execution_count": 11,
      "outputs": [
        {
          "output_type": "stream",
          "name": "stdout",
          "text": [
            "Descending: [5, 12, 18, 27, 34, 88, 99]\n"
          ]
        }
      ]
    },
    {
      "cell_type": "code",
      "source": [
        "mylist4 = [77, 65, 33, 21, 11, 98]\n",
        "print(\"sorted new list:\", sorted(mylist4))\n",
        "print(\"Original list remains unchanged:\", mylist4)"
      ],
      "metadata": {
        "id": "zZz3QJkoqKQY",
        "colab": {
          "base_uri": "https://localhost:8080/"
        },
        "outputId": "2dc8abf6-0f6a-4b77-c859-d114ed3196e1"
      },
      "execution_count": 12,
      "outputs": [
        {
          "output_type": "stream",
          "name": "stdout",
          "text": [
            "sorted new list: [11, 21, 33, 65, 77, 98]\n",
            "Original list remains unchanged: [77, 65, 33, 21, 11, 98]\n"
          ]
        }
      ]
    },
    {
      "cell_type": "code",
      "source": [
        "# Looping through lists"
      ],
      "metadata": {
        "id": "Uqv5mGrBqKeB"
      },
      "execution_count": null,
      "outputs": []
    },
    {
      "cell_type": "code",
      "source": [
        "cities = ['Mumbai', 'Delhi', 'Kolkata', 'Chennai']\n",
        "for city in cities:\n",
        "  print(city)"
      ],
      "metadata": {
        "id": "CMZQXH3Wphvh",
        "colab": {
          "base_uri": "https://localhost:8080/"
        },
        "outputId": "bbc9c146-2a60-45b4-9ba6-72046038f93e"
      },
      "execution_count": 13,
      "outputs": [
        {
          "output_type": "stream",
          "name": "stdout",
          "text": [
            "Mumbai\n",
            "Delhi\n",
            "Kolkata\n",
            "Chennai\n"
          ]
        }
      ]
    },
    {
      "cell_type": "code",
      "source": [
        "for i in enumerate(cities):\n",
        "  print(i)"
      ],
      "metadata": {
        "id": "AdNETKVUljn1",
        "colab": {
          "base_uri": "https://localhost:8080/"
        },
        "outputId": "53b37dc1-c37b-48dd-d6c5-a22fcb8afd3d"
      },
      "execution_count": 14,
      "outputs": [
        {
          "output_type": "stream",
          "name": "stdout",
          "text": [
            "(0, 'Mumbai')\n",
            "(1, 'Delhi')\n",
            "(2, 'Kolkata')\n",
            "(3, 'Chennai')\n"
          ]
        }
      ]
    },
    {
      "cell_type": "code",
      "source": [
        "#COUNT AND Occurrence\n"
      ],
      "metadata": {
        "id": "Hxmgn9ANljyP"
      },
      "execution_count": null,
      "outputs": []
    },
    {
      "cell_type": "code",
      "source": [
        "brands= ['Nike', 'Adidas', 'puma', 'Nike', 'Reebok', 'Nike']\n",
        "print(\"Nike appears:\", brands.count('Nike'), \"times\")\n",
        "print(\"Index of Puma:\", brands.index('puma'))"
      ],
      "metadata": {
        "id": "CHmgRwFhlkAa",
        "colab": {
          "base_uri": "https://localhost:8080/"
        },
        "outputId": "63546d29-3a42-45a7-8e2a-9fcb0b192845"
      },
      "execution_count": 15,
      "outputs": [
        {
          "output_type": "stream",
          "name": "stdout",
          "text": [
            "Nike appears: 3 times\n",
            "Index of Puma: 2\n"
          ]
        }
      ]
    },
    {
      "cell_type": "code",
      "source": [
        "# BUILT-IN FUNCTIONS - all() and any()\n"
      ],
      "metadata": {
        "id": "lAroyJc7lkIt"
      },
      "execution_count": null,
      "outputs": []
    },
    {
      "cell_type": "code",
      "source": [
        "marks = [80, 90, 70, 60]\n",
        "\n",
        "print(\"Are all marks non-zero? :\", all(marks))\n",
        "print(\"Is there any non-zero mark? :\", any(marks))\n",
        "\n",
        "marks_with_zero = [80, 0, 70, 60]\n",
        "\n",
        "print(\"Are all marks non-zero? :\", all(marks_with_zero))\n",
        "print(\"Is there any non-zero mark? :\", any(marks_with_zero))"
      ],
      "metadata": {
        "id": "ERNypdnXj3ty",
        "colab": {
          "base_uri": "https://localhost:8080/"
        },
        "outputId": "9f1c483f-0dda-48fa-f2c1-fb166c8c2f23"
      },
      "execution_count": 16,
      "outputs": [
        {
          "output_type": "stream",
          "name": "stdout",
          "text": [
            "Are all marks non-zero? : True\n",
            "Is there any non-zero mark? : True\n",
            "Are all marks non-zero? : False\n",
            "Is there any non-zero mark? : True\n"
          ]
        }
      ]
    },
    {
      "cell_type": "code",
      "source": [],
      "metadata": {
        "id": "I0aI_BqAj4As"
      },
      "execution_count": null,
      "outputs": []
    },
    {
      "cell_type": "code",
      "source": [],
      "metadata": {
        "id": "UHrQ2gYRj4qn"
      },
      "execution_count": null,
      "outputs": []
    },
    {
      "cell_type": "code",
      "source": [],
      "metadata": {
        "id": "hBY4vOF0g4uJ"
      },
      "execution_count": null,
      "outputs": []
    },
    {
      "cell_type": "code",
      "source": [],
      "metadata": {
        "id": "5F2svdrfg41b"
      },
      "execution_count": null,
      "outputs": []
    },
    {
      "cell_type": "code",
      "source": [],
      "metadata": {
        "id": "pxu-dK5Eg4-F"
      },
      "execution_count": null,
      "outputs": []
    },
    {
      "cell_type": "code",
      "source": [],
      "metadata": {
        "id": "SJfJOHXxg5Id"
      },
      "execution_count": null,
      "outputs": []
    },
    {
      "cell_type": "code",
      "source": [],
      "metadata": {
        "id": "jEkSZi_Fg5RT"
      },
      "execution_count": null,
      "outputs": []
    },
    {
      "cell_type": "code",
      "source": [],
      "metadata": {
        "id": "uBYTMVOog66h"
      },
      "execution_count": null,
      "outputs": []
    },
    {
      "cell_type": "code",
      "source": [],
      "metadata": {
        "id": "DOU1CyXlg7OB"
      },
      "execution_count": null,
      "outputs": []
    }
  ]
}