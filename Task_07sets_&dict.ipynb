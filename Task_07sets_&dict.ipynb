{
  "nbformat": 4,
  "nbformat_minor": 0,
  "metadata": {
    "colab": {
      "provenance": []
    },
    "kernelspec": {
      "name": "python3",
      "display_name": "Python 3"
    },
    "language_info": {
      "name": "python"
    }
  },
  "cells": [
    {
      "cell_type": "code",
      "execution_count": null,
      "metadata": {
        "colab": {
          "base_uri": "https://localhost:8080/"
        },
        "id": "RGEDCKOOYf3f",
        "outputId": "4cb29837-897d-4036-d04a-360951a26151"
      },
      "outputs": [
        {
          "output_type": "stream",
          "name": "stdout",
          "text": [
            "myset: {1, 2, 3, 4, 5, 6}\n"
          ]
        }
      ],
      "source": [
        "myset= {1, 2, 3, 4, 5, 6}\n",
        "print(\"myset:\", myset)"
      ]
    },
    {
      "cell_type": "code",
      "source": [
        "set1 = ([1, 2, 3, 4, 5, 6])\n",
        "print(\"set1:\", set1)"
      ],
      "metadata": {
        "colab": {
          "base_uri": "https://localhost:8080/"
        },
        "id": "Q9A5Bxjkaux_",
        "outputId": "aba97b24-746a-4798-a51e-b368ca9c20c3"
      },
      "execution_count": null,
      "outputs": [
        {
          "output_type": "stream",
          "name": "stdout",
          "text": [
            "set1: [1, 2, 3, 4, 5, 6]\n"
          ]
        }
      ]
    },
    {
      "cell_type": "code",
      "source": [
        "set2 = {1, 2, 3, 2, 4, 1, 5}\n",
        "print(\"set2 (duplicates removed):\", set2)"
      ],
      "metadata": {
        "colab": {
          "base_uri": "https://localhost:8080/"
        },
        "id": "XC_jr21vau72",
        "outputId": "61d26a7b-fe86-4050-9e86-6de1770e9c7b"
      },
      "execution_count": null,
      "outputs": [
        {
          "output_type": "stream",
          "name": "stdout",
          "text": [
            "set2 (duplicates removed): {1, 2, 3, 4, 5}\n"
          ]
        }
      ]
    },
    {
      "cell_type": "code",
      "source": [
        "set3 = {10, 5.6, 'Hi', (1, 2, 3)}\n",
        "print(\"set3(mixed types):\", set3 )"
      ],
      "metadata": {
        "colab": {
          "base_uri": "https://localhost:8080/"
        },
        "id": "jyNWkL6NavGB",
        "outputId": "926614d5-465e-4ff5-a3f1-0ecaac884ad5"
      },
      "execution_count": null,
      "outputs": [
        {
          "output_type": "stream",
          "name": "stdout",
          "text": [
            "set3(mixed types): {'Hi', 10, (1, 2, 3), 5.6}\n"
          ]
        }
      ]
    },
    {
      "cell_type": "code",
      "source": [
        "# set membership testing"
      ],
      "metadata": {
        "id": "LTFuXm8savQY"
      },
      "execution_count": null,
      "outputs": []
    },
    {
      "cell_type": "code",
      "source": [
        "myset = {10, 20, 30, 40, 50}\n",
        "print(20 in myset)"
      ],
      "metadata": {
        "colab": {
          "base_uri": "https://localhost:8080/"
        },
        "id": "P9MW9XEJavbR",
        "outputId": "cd573685-bf61-4de7-8320-91e75fba5f10"
      },
      "execution_count": null,
      "outputs": [
        {
          "output_type": "stream",
          "name": "stdout",
          "text": [
            "True\n"
          ]
        }
      ]
    },
    {
      "cell_type": "code",
      "source": [
        "print(200 in myset)"
      ],
      "metadata": {
        "colab": {
          "base_uri": "https://localhost:8080/"
        },
        "id": "tkpqoSymavnR",
        "outputId": "727e76ca-506f-4c6a-ea3d-39d49a9a66e7"
      },
      "execution_count": null,
      "outputs": [
        {
          "output_type": "stream",
          "name": "stdout",
          "text": [
            "False\n"
          ]
        }
      ]
    },
    {
      "cell_type": "code",
      "source": [
        "print(50  not in myset)"
      ],
      "metadata": {
        "colab": {
          "base_uri": "https://localhost:8080/"
        },
        "id": "yTSeEHwKcX2j",
        "outputId": "6f181e4e-4139-40af-c61b-492c321a4b63"
      },
      "execution_count": null,
      "outputs": [
        {
          "output_type": "stream",
          "name": "stdout",
          "text": [
            "False\n"
          ]
        }
      ]
    },
    {
      "cell_type": "code",
      "source": [
        "# modifying sets:add(),remove(),update(),discard(),clear"
      ],
      "metadata": {
        "id": "pyzGfm1OcYDg"
      },
      "execution_count": null,
      "outputs": []
    },
    {
      "cell_type": "code",
      "source": [
        "myset = {10, 20, 30}\n",
        "print(\"Original set:\", myset)"
      ],
      "metadata": {
        "colab": {
          "base_uri": "https://localhost:8080/"
        },
        "id": "rh_o-HtZdjMO",
        "outputId": "6f574b04-b564-49e8-fc16-b044a461ea14"
      },
      "execution_count": null,
      "outputs": [
        {
          "output_type": "stream",
          "name": "stdout",
          "text": [
            "Original set: {10, 20, 30}\n"
          ]
        }
      ]
    },
    {
      "cell_type": "code",
      "source": [
        "myset.add(40)\n",
        "print(\"After add(40):\", myset)\n"
      ],
      "metadata": {
        "colab": {
          "base_uri": "https://localhost:8080/"
        },
        "id": "Gbx0zEi2djYE",
        "outputId": "51a03203-f9b1-4576-9260-1f09fe52b8a3"
      },
      "execution_count": null,
      "outputs": [
        {
          "output_type": "stream",
          "name": "stdout",
          "text": [
            "After add(40): {40, 10, 20, 30}\n"
          ]
        }
      ]
    },
    {
      "cell_type": "code",
      "source": [
        "myset.update([50,60,70])\n",
        "print(\"After update([50, 60, 70]):\", myset)"
      ],
      "metadata": {
        "colab": {
          "base_uri": "https://localhost:8080/"
        },
        "id": "fyMW5omadjmX",
        "outputId": "a47a1005-aca6-48db-80c6-ac4f5c93c381"
      },
      "execution_count": null,
      "outputs": [
        {
          "output_type": "stream",
          "name": "stdout",
          "text": [
            "After update([50, 60, 70]): {70, 40, 10, 50, 20, 60, 30}\n"
          ]
        }
      ]
    },
    {
      "cell_type": "code",
      "source": [
        "myset.remove(20)\n",
        "print(\"After remove(20):\", myset)"
      ],
      "metadata": {
        "colab": {
          "base_uri": "https://localhost:8080/"
        },
        "id": "ezb1Hk4BdjyX",
        "outputId": "98db4f50-e2ed-4298-df99-6b00bd63b248"
      },
      "execution_count": null,
      "outputs": [
        {
          "output_type": "stream",
          "name": "stdout",
          "text": [
            "After remove(20): {70, 40, 10, 50, 60, 30}\n"
          ]
        }
      ]
    },
    {
      "cell_type": "code",
      "source": [
        "myset.discard(999)\n",
        "print(\"After discard(999):\", myset)"
      ],
      "metadata": {
        "colab": {
          "base_uri": "https://localhost:8080/"
        },
        "id": "qzwm7ls_dkCD",
        "outputId": "88aaa8ad-4714-454d-aede-2d430f812ec4"
      },
      "execution_count": null,
      "outputs": [
        {
          "output_type": "stream",
          "name": "stdout",
          "text": [
            "After discard(999): {70, 40, 10, 50, 60, 30}\n"
          ]
        }
      ]
    },
    {
      "cell_type": "code",
      "source": [
        "myset.clear()\n",
        "print(\"After clear():\", myset)"
      ],
      "metadata": {
        "colab": {
          "base_uri": "https://localhost:8080/"
        },
        "id": "ZDvbiLIvdkM3",
        "outputId": "3d4fd96f-d637-42ba-f921-91038c86b735"
      },
      "execution_count": null,
      "outputs": [
        {
          "output_type": "stream",
          "name": "stdout",
          "text": [
            "After clear(): set()\n"
          ]
        }
      ]
    },
    {
      "cell_type": "code",
      "source": [
        "# set copy behavior-refrence vs copy\n"
      ],
      "metadata": {
        "id": "vHirIkpmdkWC"
      },
      "execution_count": null,
      "outputs": []
    },
    {
      "cell_type": "code",
      "source": [
        "myset = {'one', 'two', 'three', 'four', 'five', 'six', 'seven', 'eight'}\n",
        "print(\"myset:\", myset)"
      ],
      "metadata": {
        "colab": {
          "base_uri": "https://localhost:8080/"
        },
        "id": "8eQyHlWEcYON",
        "outputId": "3c55b151-5ad2-486b-e253-3490c6c1580f"
      },
      "execution_count": null,
      "outputs": [
        {
          "output_type": "stream",
          "name": "stdout",
          "text": [
            "myset: {'three', 'seven', 'four', 'six', 'one', 'five', 'eight', 'two'}\n"
          ]
        }
      ]
    },
    {
      "cell_type": "code",
      "source": [
        "myset1 = myset\n",
        "print(\"myset1:\", myset1)"
      ],
      "metadata": {
        "colab": {
          "base_uri": "https://localhost:8080/"
        },
        "id": "-krXQNsbcYXo",
        "outputId": "1aa25c70-ce64-4b35-81a2-e24863ee7881"
      },
      "execution_count": null,
      "outputs": [
        {
          "output_type": "stream",
          "name": "stdout",
          "text": [
            "myset1: {'three', 'seven', 'four', 'six', 'one', 'five', 'eight', 'two'}\n"
          ]
        }
      ]
    },
    {
      "cell_type": "code",
      "source": [
        "print(\"id(myset):\", id(myset))\n",
        "print(\"id(myset1):\", id(myset1))"
      ],
      "metadata": {
        "colab": {
          "base_uri": "https://localhost:8080/"
        },
        "id": "6ZclqCn4cYhD",
        "outputId": "27967b4b-cf37-44dd-9373-16c97ece150a"
      },
      "execution_count": null,
      "outputs": [
        {
          "output_type": "stream",
          "name": "stdout",
          "text": [
            "id(myset): 132900786609216\n",
            "id(myset1): 132900786609216\n"
          ]
        }
      ]
    },
    {
      "cell_type": "code",
      "source": [
        "my_set = myset.copy()\n",
        "print(\"my_set (copy):\", my_set)"
      ],
      "metadata": {
        "colab": {
          "base_uri": "https://localhost:8080/"
        },
        "id": "1icNQwgUcYpw",
        "outputId": "eb32d9a6-98d9-4ca7-e7ad-f9a7293e95a5"
      },
      "execution_count": null,
      "outputs": [
        {
          "output_type": "stream",
          "name": "stdout",
          "text": [
            "my_set (copy): {'three', 'seven', 'four', 'six', 'one', 'five', 'eight', 'two'}\n"
          ]
        }
      ]
    },
    {
      "cell_type": "code",
      "source": [
        "print(\"id(my_set):\", id(my_set))"
      ],
      "metadata": {
        "colab": {
          "base_uri": "https://localhost:8080/"
        },
        "id": "WUb2-OFujqDo",
        "outputId": "59e3e147-6a53-4885-fd86-71a1ca0310ee"
      },
      "execution_count": null,
      "outputs": [
        {
          "output_type": "stream",
          "name": "stdout",
          "text": [
            "id(my_set): 132899892641152\n"
          ]
        }
      ]
    },
    {
      "cell_type": "code",
      "source": [
        "my_set.add('nine')\n",
        "print(\"my_set:\", my_set)"
      ],
      "metadata": {
        "colab": {
          "base_uri": "https://localhost:8080/"
        },
        "id": "27mE4UxgjqWA",
        "outputId": "f8f1da0b-8b4b-4ebb-f8fd-de1cf0bc22c4"
      },
      "execution_count": null,
      "outputs": [
        {
          "output_type": "stream",
          "name": "stdout",
          "text": [
            "my_set: {'three', 'seven', 'four', 'six', 'one', 'nine', 'five', 'eight', 'two'}\n"
          ]
        }
      ]
    },
    {
      "cell_type": "code",
      "source": [
        "print(\"myset1:\", myset1)"
      ],
      "metadata": {
        "colab": {
          "base_uri": "https://localhost:8080/"
        },
        "id": "kRi51gscjqg5",
        "outputId": "b6461b1e-a53d-492c-8bc1-c0850218a06b"
      },
      "execution_count": null,
      "outputs": [
        {
          "output_type": "stream",
          "name": "stdout",
          "text": [
            "myset1: {'three', 'seven', 'four', 'six', 'one', 'five', 'eight', 'two'}\n"
          ]
        }
      ]
    },
    {
      "cell_type": "code",
      "source": [
        "print(\"my_set (copy):\", my_set)"
      ],
      "metadata": {
        "colab": {
          "base_uri": "https://localhost:8080/"
        },
        "id": "uxrzq5aAjqtY",
        "outputId": "7bcf468a-b301-407e-d201-7b81ed489f47"
      },
      "execution_count": null,
      "outputs": [
        {
          "output_type": "stream",
          "name": "stdout",
          "text": [
            "my_set (copy): {'three', 'seven', 'four', 'six', 'one', 'nine', 'five', 'eight', 'two'}\n"
          ]
        }
      ]
    },
    {
      "cell_type": "code",
      "source": [
        "# set operations\n"
      ],
      "metadata": {
        "id": "ol_r_BSjm75X"
      },
      "execution_count": null,
      "outputs": []
    },
    {
      "cell_type": "code",
      "source": [
        "A = {1, 2, 3, 4, 5}\n",
        "B = {4, 5, 6, 7, 8}\n",
        "C = {8, 9, 10}\n",
        "\n",
        "print(\"A | B:\", A | B)\n",
        "print(\"A.union(B):\", A.union(B))\n",
        "print(\"A.union(B, C):\", A.union(B, C))\n"
      ],
      "metadata": {
        "colab": {
          "base_uri": "https://localhost:8080/"
        },
        "id": "7WgZyuoaR-0L",
        "outputId": "a0bd699e-d85f-41f2-f13b-43c0ad4682bb"
      },
      "execution_count": null,
      "outputs": [
        {
          "output_type": "stream",
          "name": "stdout",
          "text": [
            "A | B: {1, 2, 3, 4, 5, 6, 7, 8}\n",
            "A.union(B): {1, 2, 3, 4, 5, 6, 7, 8}\n",
            "A.union(B, C): {1, 2, 3, 4, 5, 6, 7, 8, 9, 10}\n"
          ]
        }
      ]
    },
    {
      "cell_type": "code",
      "source": [
        "A.update(B, C)\n",
        "print(\"After A.update(B, C):\", A)"
      ],
      "metadata": {
        "colab": {
          "base_uri": "https://localhost:8080/"
        },
        "id": "bZq6ugukR-_i",
        "outputId": "287138a8-ec7a-4ef9-9191-f9b95fb1f515"
      },
      "execution_count": null,
      "outputs": [
        {
          "output_type": "stream",
          "name": "stdout",
          "text": [
            "After A.update(B, C): {1, 2, 3, 4, 5, 6, 7, 8, 9, 10}\n"
          ]
        }
      ]
    },
    {
      "cell_type": "code",
      "source": [
        "A = {1, 2, 3, 4, 5}\n",
        "B = {4, 5, 6, 7, 8}\n",
        "\n",
        "print(\"A & B:\", A & B)\n",
        "print(\"A.intersection(B):\", A.intersection(B))"
      ],
      "metadata": {
        "colab": {
          "base_uri": "https://localhost:8080/"
        },
        "id": "t3wd_1R2R_Ut",
        "outputId": "ef12ccbf-cd28-464d-cd35-cadf2a1fdec0"
      },
      "execution_count": null,
      "outputs": [
        {
          "output_type": "stream",
          "name": "stdout",
          "text": [
            "A & B: {4, 5}\n",
            "A.intersection(B): {4, 5}\n"
          ]
        }
      ]
    },
    {
      "cell_type": "code",
      "source": [
        "A.intersection_update(B)\n",
        "print(\"After A.intersection_update(B):\", A)"
      ],
      "metadata": {
        "colab": {
          "base_uri": "https://localhost:8080/"
        },
        "id": "3nI7VeEoR_r9",
        "outputId": "b72119b5-8f95-46e7-bdc0-8bcacc0a21d2"
      },
      "execution_count": null,
      "outputs": [
        {
          "output_type": "stream",
          "name": "stdout",
          "text": [
            "After A.intersection_update(B): {4, 5}\n"
          ]
        }
      ]
    },
    {
      "cell_type": "code",
      "source": [
        "A = {1, 2, 3, 4, 5}\n",
        "B = {4, 5, 6, 7, 8}\n",
        "\n",
        "print(\"A - B:\", A - B)\n",
        "print(\"A.difference(B):\", A.difference(B))"
      ],
      "metadata": {
        "colab": {
          "base_uri": "https://localhost:8080/"
        },
        "id": "bZWDl8ekR_8v",
        "outputId": "97d393fe-2a1a-4b54-afdc-e9b5baf19c40"
      },
      "execution_count": null,
      "outputs": [
        {
          "output_type": "stream",
          "name": "stdout",
          "text": [
            "A - B: {1, 2, 3}\n",
            "A.difference(B): {1, 2, 3}\n"
          ]
        }
      ]
    },
    {
      "cell_type": "code",
      "source": [
        "B.difference_update(A)\n",
        "print(\"After B.difference_update(A):\", B)"
      ],
      "metadata": {
        "colab": {
          "base_uri": "https://localhost:8080/"
        },
        "id": "9imFkSubSAH_",
        "outputId": "232ac628-f724-459e-84c6-b848019c4569"
      },
      "execution_count": null,
      "outputs": [
        {
          "output_type": "stream",
          "name": "stdout",
          "text": [
            "After B.difference_update(A): {6, 7, 8}\n"
          ]
        }
      ]
    },
    {
      "cell_type": "code",
      "source": [
        "A = {1, 2, 3, 4, 5}\n",
        "B = {4, 5, 6, 7, 8}\n",
        "\n",
        "print(\"A ^ B:\", A ^ B)\n",
        "print(\"A.symmetric_difference(B):\", A.symmetric_difference(B))"
      ],
      "metadata": {
        "id": "t1zemnXnm8IN",
        "colab": {
          "base_uri": "https://localhost:8080/"
        },
        "outputId": "590cdc41-df91-4477-dbe5-bd67b382d3a3"
      },
      "execution_count": null,
      "outputs": [
        {
          "output_type": "stream",
          "name": "stdout",
          "text": [
            "A ^ B: {1, 2, 3, 6, 7, 8}\n",
            "A.symmetric_difference(B): {1, 2, 3, 6, 7, 8}\n"
          ]
        }
      ]
    },
    {
      "cell_type": "code",
      "source": [
        "A.symmetric_difference_update(B)\n",
        "print(\"After A.symmetric_difference_update(B):\", A)"
      ],
      "metadata": {
        "id": "7MckDLMKm8UK",
        "colab": {
          "base_uri": "https://localhost:8080/"
        },
        "outputId": "350176f2-8849-4bf0-c0a0-66a11f50bd83"
      },
      "execution_count": null,
      "outputs": [
        {
          "output_type": "stream",
          "name": "stdout",
          "text": [
            "After A.symmetric_difference_update(B): {1, 2, 3, 6, 7, 8}\n"
          ]
        }
      ]
    },
    {
      "cell_type": "code",
      "source": [],
      "metadata": {
        "id": "bgvCKOSjm8oe"
      },
      "execution_count": null,
      "outputs": []
    },
    {
      "cell_type": "code",
      "source": [],
      "metadata": {
        "id": "CB5TI8tzm9bo"
      },
      "execution_count": null,
      "outputs": []
    },
    {
      "cell_type": "code",
      "source": [],
      "metadata": {
        "id": "lW9C4tXGU8O1"
      },
      "execution_count": null,
      "outputs": []
    },
    {
      "cell_type": "code",
      "source": [],
      "metadata": {
        "id": "b-38nTm4U8aH"
      },
      "execution_count": null,
      "outputs": []
    },
    {
      "cell_type": "code",
      "source": [],
      "metadata": {
        "id": "VthKaN64U8oM"
      },
      "execution_count": null,
      "outputs": []
    }
  ]
}